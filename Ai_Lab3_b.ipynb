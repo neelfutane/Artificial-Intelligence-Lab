{
  "nbformat": 4,
  "nbformat_minor": 0,
  "metadata": {
    "colab": {
      "provenance": []
    },
    "kernelspec": {
      "name": "python3",
      "display_name": "Python 3"
    },
    "language_info": {
      "name": "python"
    }
  },
  "cells": [
    {
      "cell_type": "code",
      "execution_count": 1,
      "metadata": {
        "colab": {
          "base_uri": "https://localhost:8080/"
        },
        "id": "Xxwjxn64aO_j",
        "outputId": "da2bbeb4-0915-412e-ce13-64740f1c586d"
      },
      "outputs": [
        {
          "output_type": "stream",
          "name": "stdout",
          "text": [
            "Path found: True\n",
            "Path taken: A -> B -> E -> I -> F -> J -> K -> O -> P -> C -> G -> L -> R\n"
          ]
        }
      ],
      "source": [
        "# Implementation of IDDFS\n",
        "\n",
        "graph = {\n",
        "    \"A\": [\"B\", \"C\", \"D\"],\n",
        "    \"B\": [\"E\", \"F\"],\n",
        "    \"C\": [\"G\"],\n",
        "    \"D\": [\"H\"],\n",
        "    \"E\": [\"I\"],\n",
        "    \"F\": [\"J\", \"K\"],\n",
        "    \"G\": [\"L\"],\n",
        "    \"H\": [\"M\", \"N\"],\n",
        "    \"I\": [],\n",
        "    \"J\": [],\n",
        "    \"K\": [\"O\", \"P\"],\n",
        "    \"L\": [\"R\"],\n",
        "    \"M\": [],\n",
        "    \"N\": [\"S\"],\n",
        "    \"O\": [],\n",
        "    \"P\": [],\n",
        "    \"R\": [],\n",
        "    \"S\": []\n",
        "}\n",
        "\n",
        "def dls(node, goal, depth_limit, path):\n",
        "    if node == goal:\n",
        "        return True\n",
        "\n",
        "    if depth_limit <= 0:\n",
        "        return False\n",
        "\n",
        "    for neighbor in graph[node]:\n",
        "        path.append(neighbor)\n",
        "        if dls(neighbor, goal, depth_limit - 1, path):\n",
        "            return True\n",
        "    return False\n",
        "\n",
        "def iddfs(start, goal, max_depth):\n",
        "    for depth in range(max_depth + 1):\n",
        "        path = [start]\n",
        "        if dls(start, goal, depth, path):\n",
        "            return True, path\n",
        "    return False, path\n",
        "\n",
        "START_NODE = \"A\"\n",
        "GOAL_NODE = \"R\"\n",
        "MAX_DEPTH = 4\n",
        "\n",
        "found, path = iddfs(START_NODE, GOAL_NODE, MAX_DEPTH)\n",
        "print(f\"Path found: {found}\")\n",
        "if found:\n",
        "  print(f\"Path taken: {' -> '.join(path)}\")\n"
      ]
    },
    {
      "cell_type": "code",
      "source": [],
      "metadata": {
        "id": "OV-J0ll-abqQ"
      },
      "execution_count": null,
      "outputs": []
    }
  ]
}