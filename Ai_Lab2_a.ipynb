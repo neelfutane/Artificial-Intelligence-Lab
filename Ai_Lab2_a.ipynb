{
  "nbformat": 4,
  "nbformat_minor": 0,
  "metadata": {
    "colab": {
      "provenance": []
    },
    "kernelspec": {
      "name": "python3",
      "display_name": "Python 3"
    },
    "language_info": {
      "name": "python"
    }
  },
  "cells": [
    {
      "cell_type": "markdown",
      "source": [
        "# Implementation of BFS and DFS on a following graph."
      ],
      "metadata": {
        "id": "tgC0DmLnXquz"
      }
    },
    {
      "cell_type": "code",
      "source": [
        "# BFS\n",
        "graph = {\n",
        "    'A' : ['B','C','D'],\n",
        "    'B' : ['E','F'],\n",
        "    'C' : ['G'],\n",
        "    'D' : ['H'],\n",
        "    'E' : [],\n",
        "    'F' : [],\n",
        "    'G' : [],\n",
        "    'H' : []\n",
        "}\n",
        "visited = []\n",
        "queue = []\n",
        "def bfs(visited, graph, node):\n",
        "    visited.append(node)\n",
        "    queue.append(node)\n",
        "    while queue:\n",
        "        s = queue.pop(0)\n",
        "        print(s, end=\" \")\n",
        "\n",
        "        for neighbour in graph[s]:\n",
        "            if neighbour not in visited:\n",
        "                visited.append(neighbour)\n",
        "                queue.append(neighbour)\n",
        "print(\"BFS Traversal :\")\n",
        "bfs(visited, graph, 'A')"
      ],
      "metadata": {
        "colab": {
          "base_uri": "https://localhost:8080/"
        },
        "id": "oS6S3O85Xu_9",
        "outputId": "e5d94d62-0f1e-40c1-ea56-fe0c29c9ffe8"
      },
      "execution_count": 1,
      "outputs": [
        {
          "output_type": "stream",
          "name": "stdout",
          "text": [
            "BFS Traversal :\n",
            "A B C D E F G H "
          ]
        }
      ]
    },
    {
      "cell_type": "code",
      "source": [
        "# DFS\n",
        "graph = {\n",
        "    'A' : ['B','C','D'],\n",
        "    'B' : ['E','F'],\n",
        "    'C' : ['G'],\n",
        "    'D' : ['H'],\n",
        "    'E' : [],\n",
        "    'F' : [],\n",
        "    'G' : [],\n",
        "    'H' : []\n",
        "}\n",
        "\n",
        "visited = set()\n",
        "def dfs(visited, graph, node):\n",
        "    if node not in visited:\n",
        "        print(node, end=\" \")\n",
        "        visited.add(node)\n",
        "        for neighbour in graph[node]:\n",
        "            dfs(visited, graph, neighbour)\n",
        "\n",
        "\n",
        "print(\"DFS traversal starting from node 'A':\")\n",
        "dfs(visited, graph, 'A')"
      ],
      "metadata": {
        "colab": {
          "base_uri": "https://localhost:8080/"
        },
        "id": "mxlMvfOXX_Lo",
        "outputId": "38a28ab3-5638-45ad-c91e-e133be5f87a0"
      },
      "execution_count": 2,
      "outputs": [
        {
          "output_type": "stream",
          "name": "stdout",
          "text": [
            "DFS traversal starting from node 'A':\n",
            "A B E F C G D H "
          ]
        }
      ]
    },
    {
      "cell_type": "code",
      "source": [],
      "metadata": {
        "id": "RGJRlaYOYFwW"
      },
      "execution_count": null,
      "outputs": []
    }
  ]
}