{
  "nbformat": 4,
  "nbformat_minor": 0,
  "metadata": {
    "colab": {
      "provenance": []
    },
    "kernelspec": {
      "name": "python3",
      "display_name": "Python 3"
    },
    "language_info": {
      "name": "python"
    }
  },
  "cells": [
    {
      "cell_type": "code",
      "execution_count": 1,
      "metadata": {
        "colab": {
          "base_uri": "https://localhost:8080/"
        },
        "id": "ujHjLEIoVGaz",
        "outputId": "0d9cac0f-c387-4039-f064-f242083beec4"
      },
      "outputs": [
        {
          "output_type": "stream",
          "name": "stdout",
          "text": [
            "Initial state: 0 0\n",
            "Fill jug X: 4 0\n",
            "Pour from jug X to jug Y: 1 3\n",
            "Empty jug Y: 1 0\n",
            "Pour from jug X to jug Y: 0 1\n",
            "Fill jug X: 4 1\n",
            "Pour from jug X to jug Y: 2 3\n",
            "Empty jug Y: 2 0\n",
            "Goal state achieved: 2 0\n"
          ]
        }
      ],
      "source": [
        "# Implementation of 2 water jug problem\n",
        "\n",
        "x, xm = 0, 4\n",
        "y, ym = 0, 3\n",
        "\n",
        "print(\"Initial state:\", x, y)\n",
        "\n",
        "while x != 2 or y != 0:\n",
        "    if x == 0:\n",
        "        x = xm\n",
        "        print(\"Fill jug X:\", x, y)\n",
        "    elif y == ym:\n",
        "        y = 0\n",
        "        print(\"Empty jug Y:\", x, y)\n",
        "    elif x > 0 and y < ym:\n",
        "        d = min(x, ym - y)\n",
        "        x -= d\n",
        "        y += d\n",
        "        print(\"Pour from jug X to jug Y:\", x, y)\n",
        "\n",
        "print(\"Goal state achieved:\", x, y)\n"
      ]
    },
    {
      "cell_type": "code",
      "source": [],
      "metadata": {
        "id": "qdSR5K6JW7SA"
      },
      "execution_count": null,
      "outputs": []
    }
  ]
}