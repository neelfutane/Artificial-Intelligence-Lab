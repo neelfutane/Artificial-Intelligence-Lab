{
  "nbformat": 4,
  "nbformat_minor": 0,
  "metadata": {
    "colab": {
      "provenance": []
    },
    "kernelspec": {
      "name": "python3",
      "display_name": "Python 3"
    },
    "language_info": {
      "name": "python"
    }
  },
  "cells": [
    {
      "cell_type": "code",
      "execution_count": 2,
      "metadata": {
        "colab": {
          "base_uri": "https://localhost:8080/"
        },
        "id": "kyDpuoRPYfF7",
        "outputId": "72fbe9e2-08be-4924-90ce-a397e32ece1e"
      },
      "outputs": [
        {
          "output_type": "stream",
          "name": "stdout",
          "text": [
            "S\n",
            "A\n",
            "C\n",
            "D\n",
            "B\n",
            "I\n",
            "J\n",
            "Goal node found within the depth limit.\n"
          ]
        }
      ],
      "source": [
        "# Implementation of Depth Limited search\n",
        "def dls(visited, graph, start, goal, depth_limit):\n",
        "\n",
        "    if visited is None:\n",
        "        visited = set()\n",
        "\n",
        "    visited.add(start)\n",
        "    print(start)\n",
        "\n",
        "    if start == goal:\n",
        "        return True\n",
        "    if depth_limit <= 0:\n",
        "        return False\n",
        "\n",
        "    for neighbor in graph[start]:\n",
        "      if neighbor not in visited:\n",
        "        if dls(visited, graph, neighbor, goal, depth_limit - 1):\n",
        "            return True\n",
        "\n",
        "    return False\n",
        "graph = {\n",
        "    'S': ['A', 'B'],\n",
        "    'A': ['C', 'D'],\n",
        "    'B': ['I', 'J'],\n",
        "    'C': ['E', 'F'],\n",
        "    'D': ['G'],\n",
        "    'I': ['H'],\n",
        "    'J': [],\n",
        "    'E': [],\n",
        "    'F': [],\n",
        "    'G': [],\n",
        "    'H': []\n",
        "}\n",
        "\n",
        "start = 'S'\n",
        "goal = 'J'\n",
        "depth_limit = 2\n",
        "\n",
        "if dls(None, graph, start, goal, depth_limit):\n",
        "    print(\"Goal node found within the depth limit.\")\n",
        "else:\n",
        "    print(\"Goal node not found within the depth limit.\")"
      ]
    },
    {
      "cell_type": "code",
      "source": [],
      "metadata": {
        "id": "CNKfPaf5YxTG"
      },
      "execution_count": null,
      "outputs": []
    }
  ]
}