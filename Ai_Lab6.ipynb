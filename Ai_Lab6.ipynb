{
  "nbformat": 4,
  "nbformat_minor": 0,
  "metadata": {
    "colab": {
      "provenance": []
    },
    "kernelspec": {
      "name": "python3",
      "display_name": "Python 3"
    },
    "language_info": {
      "name": "python"
    }
  },
  "cells": [
    {
      "cell_type": "markdown",
      "source": [
        "# Implementation of Min-Max Algorithm and CSP."
      ],
      "metadata": {
        "id": "fgHKkRq0c1lQ"
      }
    },
    {
      "cell_type": "code",
      "source": [
        "# Min-Max\n",
        "\n",
        "def min_max(values, is_max_level):\n",
        "    if len(values) == 1:\n",
        "        return values[0]\n",
        "\n",
        "    new_values = []\n",
        "    for i in range(0, len(values), 2):\n",
        "        if i + 1 < len(values):\n",
        "            if is_max_level:\n",
        "                new_values.append(max(values[i], values[i+1]))\n",
        "            else:\n",
        "                new_values.append(min(values[i], values[i+1]))\n",
        "        else:\n",
        "            new_values.append(values[i])\n",
        "\n",
        "    return min_max(new_values, not is_max_level)\n",
        "\n",
        "leaf_values = [4, 3, 6, 2, 2, 1, 9, 5, 3, 1, 5, 4, 7, 5]\n",
        "\n",
        "max_player_value = min_max(leaf_values, True)\n",
        "\n",
        "print(\"Max Player's value:\", max_player_value)\n"
      ],
      "metadata": {
        "colab": {
          "base_uri": "https://localhost:8080/"
        },
        "id": "PbrbHfIQc7VF",
        "outputId": "94f9802f-97bd-4451-82b6-4ba0a6e2ef8b"
      },
      "execution_count": 1,
      "outputs": [
        {
          "output_type": "stream",
          "name": "stdout",
          "text": [
            "Max Player's value: 4\n"
          ]
        }
      ]
    },
    {
      "cell_type": "code",
      "source": [
        "# CSP - Node coloring\n",
        "def graph_coloring(graph):\n",
        "    colors = {}\n",
        "    available_colors = {}\n",
        "\n",
        "    for node in graph:\n",
        "        used_colors = {colors[neighbor] for neighbor in graph[node] if neighbor in colors}\n",
        "\n",
        "        for color in range(len(graph)):\n",
        "            if color not in used_colors:\n",
        "                colors[node] = color\n",
        "                break\n",
        "\n",
        "    return colors\n",
        "\n",
        "graph = {\n",
        "    1: [2, 5],\n",
        "    2: [1, 3, 4, 5],\n",
        "    3: [2, 4, 6],\n",
        "    4: [2, 3, 5, 6],\n",
        "    5: [1, 2, 4, 6],\n",
        "    6: [3, 4, 5]\n",
        "}\n",
        "\n",
        "color_assignment = graph_coloring(graph)\n",
        "\n",
        "for node, color in color_assignment.items():\n",
        "    print(f\"Node {node} -> Color {color}\")\n"
      ],
      "metadata": {
        "colab": {
          "base_uri": "https://localhost:8080/"
        },
        "id": "ASIFd8p2dBHj",
        "outputId": "3de882f3-79a9-44bc-92b5-38a7de3b86fe"
      },
      "execution_count": 2,
      "outputs": [
        {
          "output_type": "stream",
          "name": "stdout",
          "text": [
            "Node 1 -> Color 0\n",
            "Node 2 -> Color 1\n",
            "Node 3 -> Color 0\n",
            "Node 4 -> Color 2\n",
            "Node 5 -> Color 3\n",
            "Node 6 -> Color 1\n"
          ]
        }
      ]
    },
    {
      "cell_type": "code",
      "source": [],
      "metadata": {
        "id": "EUvMJ8RgdWm9"
      },
      "execution_count": null,
      "outputs": []
    }
  ]
}