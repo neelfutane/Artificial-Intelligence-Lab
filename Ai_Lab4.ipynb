{
  "nbformat": 4,
  "nbformat_minor": 0,
  "metadata": {
    "colab": {
      "provenance": []
    },
    "kernelspec": {
      "name": "python3",
      "display_name": "Python 3"
    },
    "language_info": {
      "name": "python"
    }
  },
  "cells": [
    {
      "cell_type": "markdown",
      "source": [
        "# Implementation of A star and GBFS Algorithm.\n"
      ],
      "metadata": {
        "id": "TyeCyza7a1KX"
      }
    },
    {
      "cell_type": "code",
      "source": [
        "# Implementation of GBFS\n",
        "\n",
        "from heapq import heappush, heappop\n",
        "\n",
        "def greedy_best_search(graph, start, goal, heuristics):\n",
        "   pq = [(heuristics[start], start, [start])]\n",
        "   visited = set()\n",
        "\n",
        "   while pq:\n",
        "       h_val, current, path = heappop(pq)\n",
        "\n",
        "       if current == goal:\n",
        "           return path\n",
        "\n",
        "       if current not in visited:\n",
        "           visited.add(current)\n",
        "\n",
        "           for neighbor in graph[current]:\n",
        "               if neighbor not in visited:\n",
        "                   new_path = path + [neighbor]\n",
        "                   heappush(pq, (heuristics[neighbor], neighbor, new_path))\n",
        "\n",
        "   return None\n",
        "\n",
        "graph = {\n",
        "   'A': ['B', 'C'],\n",
        "   'B': ['D', 'E'],\n",
        "   'C': ['F', 'G'],\n",
        "   'D': ['H'],\n",
        "   'E': ['H'],\n",
        "   'F': ['H'],\n",
        "   'G': ['H'],\n",
        "   'H': []\n",
        "}\n",
        "\n",
        "heuristics = {\n",
        "   'A': 13, 'B': 12, 'C': 4,\n",
        "   'D': 7,  'E': 3,  'F': 8,\n",
        "   'G': 2,  'H': 0\n",
        "}\n",
        "\n",
        "path = greedy_best_search(graph, 'A', 'H', heuristics)\n",
        "if path:\n",
        "    print(f\"Path found: {' -> '.join(path)}\")\n",
        "else:\n",
        "    print(\"Not found\")"
      ],
      "metadata": {
        "colab": {
          "base_uri": "https://localhost:8080/"
        },
        "id": "bV6duGSOa-CM",
        "outputId": "ee5ae183-93bf-4280-fed5-0d96edf62c89"
      },
      "execution_count": 1,
      "outputs": [
        {
          "output_type": "stream",
          "name": "stdout",
          "text": [
            "Path found: A -> C -> G -> H\n"
          ]
        }
      ]
    },
    {
      "cell_type": "code",
      "source": [
        "# Implementation of A*\n",
        "from heapq import heappush, heappop\n",
        "\n",
        "def a_star_search(graph, start, goal, heuristics, costs):\n",
        "    pq = [(heuristics[start], 0, start, [start])]\n",
        "    visited = {}\n",
        "\n",
        "    while pq:\n",
        "        f_val, g_val, current, path = heappop(pq)\n",
        "\n",
        "        if current == goal:\n",
        "            return path\n",
        "\n",
        "        if current not in visited or g_val < visited[current]:\n",
        "            visited[current] = g_val\n",
        "\n",
        "            for neighbor in graph[current]:\n",
        "                new_g = g_val + costs[(current, neighbor)]\n",
        "                new_f = new_g + heuristics[neighbor]\n",
        "                heappush(pq, (new_f, new_g, neighbor, path + [neighbor]))\n",
        "\n",
        "    return None\n",
        "\n",
        "graph = {\n",
        "    'A': ['B', 'C', 'H'],\n",
        "    'B': ['D', 'E'],\n",
        "    'C': ['F', 'G'],\n",
        "    'D': [],\n",
        "    'E': [],\n",
        "    'F': ['H'],\n",
        "    'G': ['H'],\n",
        "    'H': []\n",
        "}\n",
        "\n",
        "heuristics = {\n",
        "    'A': 5, 'B': 3, 'C': 4,\n",
        "    'D': 2, 'E': 6, 'F': 3,\n",
        "    'G': 1, 'H': 0\n",
        "}\n",
        "\n",
        "costs = {\n",
        "    ('A', 'B'): 1, ('A', 'C'): 2, ('A', 'H'): 7,\n",
        "    ('B', 'D'): 4, ('B', 'E'): 6,\n",
        "    ('C', 'F'): 3, ('C', 'G'): 2,\n",
        "    ('F', 'H'): 1, ('G', 'H'): 2\n",
        "}\n",
        "\n",
        "\n",
        "path = a_star_search(graph, 'A', 'H', heuristics, costs)\n",
        "\n",
        "if path:\n",
        "    print(f\"Optimal Path: {' -> '.join(path)}\")\n",
        "else:\n",
        "    print(\"Path not found\")\n"
      ],
      "metadata": {
        "colab": {
          "base_uri": "https://localhost:8080/"
        },
        "id": "SWsVM_t6bVtp",
        "outputId": "39ab5e48-1026-401f-b069-cb09bd054503"
      },
      "execution_count": 2,
      "outputs": [
        {
          "output_type": "stream",
          "name": "stdout",
          "text": [
            "Optimal Path: A -> C -> G -> H\n"
          ]
        }
      ]
    },
    {
      "cell_type": "code",
      "source": [],
      "metadata": {
        "id": "C6pSAK7hbszm"
      },
      "execution_count": null,
      "outputs": []
    }
  ]
}