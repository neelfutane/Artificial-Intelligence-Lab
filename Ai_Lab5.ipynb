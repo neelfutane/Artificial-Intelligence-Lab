{
  "nbformat": 4,
  "nbformat_minor": 0,
  "metadata": {
    "colab": {
      "provenance": []
    },
    "kernelspec": {
      "name": "python3",
      "display_name": "Python 3"
    },
    "language_info": {
      "name": "python"
    }
  },
  "cells": [
    {
      "cell_type": "code",
      "execution_count": 1,
      "metadata": {
        "colab": {
          "base_uri": "https://localhost:8080/"
        },
        "id": "rdM8oFsRcAA_",
        "outputId": "89f40e07-f3a7-4d27-f53e-68f964c1e92e"
      },
      "outputs": [
        {
          "output_type": "stream",
          "name": "stdout",
          "text": [
            "Optimized Layout (Department: Position)\n",
            "Assembly: (0, 0)\n",
            "Packaging: (1, 0)\n",
            "Quality: (2, 0)\n",
            "Storage: (0, 2)\n",
            "Shipping: (0, 1)\n",
            "Minimum Transportation Cost: 46\n"
          ]
        }
      ],
      "source": [
        "# Implementation of Hill Climbing Algorithm\n",
        "\n",
        "import random\n",
        "\n",
        "DEPARTMENTS = [\"Assembly\", \"Packaging\", \"Quality\", \"Storage\", \"Shipping\"]\n",
        "\n",
        "FREQUENCY_MATRIX = [\n",
        "    [0, 5, 2, 3, 1],\n",
        "    [5, 0, 4, 2, 3],\n",
        "    [2, 4, 0, 1, 2],\n",
        "    [3, 2, 1, 0, 4],\n",
        "    [1, 3, 2, 4, 0],\n",
        "]\n",
        "\n",
        "def generate_initial_layout():\n",
        "    positions = [(x, y) for x in range(3) for y in range(3)]\n",
        "    random.shuffle(positions)\n",
        "    layout = {dept: pos for dept, pos in zip(DEPARTMENTS, positions[:5])}\n",
        "    return layout\n",
        "\n",
        "def manhattan_distance(pos1, pos2):\n",
        "    return abs(pos1[0] - pos2[0]) + abs(pos1[1] - pos2[1])\n",
        "\n",
        "def compute_cost(layout):\n",
        "    cost = 0\n",
        "    for i in range(len(DEPARTMENTS)):\n",
        "        for j in range(i + 1, len(DEPARTMENTS)):\n",
        "            d1, d2 = DEPARTMENTS[i], DEPARTMENTS[j]\n",
        "            cost += FREQUENCY_MATRIX[i][j] * manhattan_distance(layout[d1], layout[d2])\n",
        "    return cost\n",
        "\n",
        "def get_neighbors(layout):\n",
        "    neighbors = []\n",
        "    dept_list = list(layout.keys())\n",
        "    for i in range(len(dept_list)):\n",
        "        for j in range(i + 1, len(dept_list)):\n",
        "            neighbor_layout = layout.copy()\n",
        "            neighbor_layout[dept_list[i]], neighbor_layout[dept_list[j]] = neighbor_layout[dept_list[j]], neighbor_layout[dept_list[i]]\n",
        "            neighbors.append(neighbor_layout)\n",
        "    return neighbors\n",
        "\n",
        "def hill_climbing():\n",
        "    current_layout = generate_initial_layout()\n",
        "    current_cost = compute_cost(current_layout)\n",
        "\n",
        "    while True:\n",
        "        neighbors = get_neighbors(current_layout)\n",
        "        best_neighbor = min(neighbors, key=compute_cost)\n",
        "        best_neighbor_cost = compute_cost(best_neighbor)\n",
        "\n",
        "        if best_neighbor_cost >= current_cost:\n",
        "            break\n",
        "\n",
        "        current_layout = best_neighbor\n",
        "        current_cost = best_neighbor_cost\n",
        "\n",
        "    return current_layout, current_cost\n",
        "\n",
        "optimal_layout, optimal_cost = hill_climbing()\n",
        "\n",
        "print(\"Optimized Layout (Department: Position)\")\n",
        "for dept, pos in optimal_layout.items():\n",
        "    print(f\"{dept}: {pos}\")\n",
        "print(f\"Minimum Transportation Cost: {optimal_cost}\")"
      ]
    },
    {
      "cell_type": "code",
      "source": [],
      "metadata": {
        "id": "eFsFr__5cJ0y"
      },
      "execution_count": null,
      "outputs": []
    }
  ]
}