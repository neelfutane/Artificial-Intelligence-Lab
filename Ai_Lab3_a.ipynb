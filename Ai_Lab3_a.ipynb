{
  "nbformat": 4,
  "nbformat_minor": 0,
  "metadata": {
    "colab": {
      "provenance": []
    },
    "kernelspec": {
      "name": "python3",
      "display_name": "Python 3"
    },
    "language_info": {
      "name": "python"
    }
  },
  "cells": [
    {
      "cell_type": "code",
      "execution_count": 1,
      "metadata": {
        "colab": {
          "base_uri": "https://localhost:8080/"
        },
        "id": "KGlvm1NbZhBf",
        "outputId": "5172437a-1fe6-4989-cbdb-c2649cc8c772"
      },
      "outputs": [
        {
          "output_type": "stream",
          "name": "stdout",
          "text": [
            "Cost: 13, Path: A -> B -> F -> E\n"
          ]
        }
      ],
      "source": [
        "# Implementation of Uniform Cost Search\n",
        "def uniform_cost_search(graph, start, goal):\n",
        "\n",
        "    priority_queue = [(0, start, [start])]\n",
        "    visited = set()\n",
        "\n",
        "    while priority_queue:\n",
        "\n",
        "        priority_queue.sort(key=lambda x: x[0])\n",
        "\n",
        "        cost, current_node, path = priority_queue.pop(0)\n",
        "\n",
        "        if current_node == goal:\n",
        "            return cost, path\n",
        "\n",
        "        if current_node in visited:\n",
        "            continue\n",
        "        visited.add(current_node)\n",
        "\n",
        "        for neighbor, edge_cost in graph.get(current_node, []):\n",
        "            if neighbor not in visited:\n",
        "                priority_queue.append((cost + edge_cost, neighbor, path + [neighbor]))\n",
        "\n",
        "    return float('inf'), []\n",
        "\n",
        "\n",
        "graph = {\n",
        "    'A': [('B', 5), ('D', 10)],\n",
        "    'B': [('C', 4), ('E', 15), ('F', 4)],\n",
        "    'C': [('E', 8)],\n",
        "    'D': [('F', 11)],\n",
        "    'F': [('E', 4)],\n",
        "}\n",
        "\n",
        "start_node = 'A'\n",
        "goal_node = 'E'\n",
        "cost, path = uniform_cost_search(graph, start_node, goal_node)\n",
        "\n",
        "print(f\"Cost: {cost}, Path: {' -> '.join(path)}\")"
      ]
    }
  ]
}